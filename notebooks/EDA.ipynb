{
 "cells": [
  {
   "cell_type": "markdown",
   "metadata": {},
   "source": [
    "# Exploratory Data Analysis\n",
    "\n",
    "### Understanding the characteristics of data is essential before modeling building.   Based on the metrics we gather here, we will decide which classification model we should use for this dataset.\n",
    "\n",
    "1.  Number of samples\n",
    "2.  Number of classes\n",
    "3.  Number of samples per class\n",
    "4.  Number of words per sample\n",
    "5.  Frequency distribution of words\n",
    "6.  Distribution of sample length"
   ]
  },
  {
   "cell_type": "code",
   "execution_count": 1,
   "metadata": {},
   "outputs": [],
   "source": [
    "import sys\n",
    "import os\n",
    "import matplotlib.pyplot as plt\n",
    "import numpy as np\n",
    "\n",
    "from pathlib import Path\n",
    "from sklearn.feature_extraction.text import CountVectorizer\n",
    "\n",
    "sys.path.append(os.path.abspath(\"../\"))\n",
    "from src.data.make_dataset import (load_roman_urdu_sentiment_analysis_dataset, tokenizer)\n",
    "from src.visualization.visualize import plot_frequency_distribution_of_ngrams\n",
    "\n",
    "DATA_DIR = os.path.abspath('../data/raw')"
   ]
  },
  {
   "cell_type": "code",
   "execution_count": 2,
   "metadata": {},
   "outputs": [],
   "source": [
    "import pandas as pd\n",
    "pd.set_option('display.max_rows', 500)\n",
    "pd.set_option('display.max_columns', 500)\n",
    "pd.set_option('display.max_colwidth', None)"
   ]
  },
  {
   "cell_type": "code",
   "execution_count": 4,
   "metadata": {},
   "outputs": [],
   "source": [
    "((train_comments, train_labels), (test_comments, test_labels)) = load_roman_urdu_sentiment_analysis_dataset(DATA_DIR, 'Roman Urdu DataSet.csv', ['comment', 'sentiment', 'nan'])"
   ]
  },
  {
   "cell_type": "code",
   "execution_count": 3,
   "metadata": {},
   "outputs": [
    {
     "data": {
      "text/html": [
       "<div>\n",
       "<style scoped>\n",
       "    .dataframe tbody tr th:only-of-type {\n",
       "        vertical-align: middle;\n",
       "    }\n",
       "\n",
       "    .dataframe tbody tr th {\n",
       "        vertical-align: top;\n",
       "    }\n",
       "\n",
       "    .dataframe thead th {\n",
       "        text-align: right;\n",
       "    }\n",
       "</style>\n",
       "<table border=\"1\" class=\"dataframe\">\n",
       "  <thead>\n",
       "    <tr style=\"text-align: right;\">\n",
       "      <th></th>\n",
       "      <th>comment</th>\n",
       "      <th>sentiment</th>\n",
       "    </tr>\n",
       "  </thead>\n",
       "  <tbody>\n",
       "    <tr>\n",
       "      <th>20087</th>\n",
       "      <td>Yar spelling kesa theek hota wahan ja k bhi</td>\n",
       "      <td>1</td>\n",
       "    </tr>\n",
       "    <tr>\n",
       "      <th>19498</th>\n",
       "      <td>Paen paihay guwach gye ne?? #AchaSorry</td>\n",
       "      <td>0</td>\n",
       "    </tr>\n",
       "    <tr>\n",
       "      <th>19662</th>\n",
       "      <td>Hahaha  teri bhabi hai</td>\n",
       "      <td>1</td>\n",
       "    </tr>\n",
       "    <tr>\n",
       "      <th>18265</th>\n",
       "      <td>Mujhi cxn eid ty ehyo wathi aiyun ahin sunny wat athai 6k jo aa puro suit</td>\n",
       "      <td>1</td>\n",
       "    </tr>\n",
       "    <tr>\n",
       "      <th>17240</th>\n",
       "      <td>Kya ye sach hy?</td>\n",
       "      <td>1</td>\n",
       "    </tr>\n",
       "  </tbody>\n",
       "</table>\n",
       "</div>"
      ],
      "text/plain": [
       "                                                                         comment  \\\n",
       "20087                                Yar spelling kesa theek hota wahan ja k bhi   \n",
       "19498                                     Paen paihay guwach gye ne?? #AchaSorry   \n",
       "19662                                                     Hahaha  teri bhabi hai   \n",
       "18265  Mujhi cxn eid ty ehyo wathi aiyun ahin sunny wat athai 6k jo aa puro suit   \n",
       "17240                                                            Kya ye sach hy?   \n",
       "\n",
       "       sentiment  \n",
       "20087          1  \n",
       "19498          0  \n",
       "19662          1  \n",
       "18265          1  \n",
       "17240          1  "
      ]
     },
     "execution_count": 3,
     "metadata": {},
     "output_type": "execute_result"
    }
   ],
   "source": [
    "# df = load_roman_urdu_sentiment_analysis_dataset(DATA_DIR, 'Roman Urdu DataSet.csv', ['comment', 'sentiment', 'nan'])\n",
    "# df.head()"
   ]
  },
  {
   "cell_type": "code",
   "execution_count": 18,
   "metadata": {},
   "outputs": [],
   "source": [
    "labels = np.concatenate((train_labels, test_labels))"
   ]
  },
  {
   "cell_type": "markdown",
   "metadata": {},
   "source": [
    "## Q1. Number of samples"
   ]
  },
  {
   "cell_type": "code",
   "execution_count": 20,
   "metadata": {},
   "outputs": [
    {
     "name": "stdout",
     "output_type": "stream",
     "text": [
      "There are 20116 examples in this dataset\n"
     ]
    }
   ],
   "source": [
    "#print(f'There are {df.shape[0]} examples in this dataset')\n",
    "print(f'There are {labels.shape[0]} examples in this dataset')"
   ]
  },
  {
   "cell_type": "markdown",
   "metadata": {},
   "source": [
    "## Q2. Number of classes"
   ]
  },
  {
   "cell_type": "code",
   "execution_count": 22,
   "metadata": {},
   "outputs": [
    {
     "name": "stdout",
     "output_type": "stream",
     "text": [
      "There are 3 classes in this dataset\n"
     ]
    }
   ],
   "source": [
    "print(f'There are {np.unique(labels).shape[0]} classes in this dataset')"
   ]
  },
  {
   "cell_type": "markdown",
   "metadata": {},
   "source": [
    "## Q3.  Number of samples per class"
   ]
  },
  {
   "cell_type": "code",
   "execution_count": 25,
   "metadata": {},
   "outputs": [
    {
     "name": "stdout",
     "output_type": "stream",
     "text": [
      "There are 5287 examples of negative sentiment\n",
      "There are 8816 examples of neutral sentiment\n",
      "There are 6013 examples of positive sentiment\n"
     ]
    }
   ],
   "source": [
    "unique_values, occurCount = np.unique(labels, return_counts=True)\n",
    "print(f'There are {occurCount[0]} examples of negative sentiment')\n",
    "print(f'There are {occurCount[1]} examples of neutral sentiment')\n",
    "print(f'There are {occurCount[2]} examples of positive sentiment')"
   ]
  },
  {
   "cell_type": "code",
   "execution_count": 6,
   "metadata": {},
   "outputs": [
    {
     "name": "stdout",
     "output_type": "stream",
     "text": [
      "There are 5287 examples of negative sentiment\n",
      "There are 8816 examples of neutral sentiment\n",
      "There are 6013 examples of positive sentiment\n"
     ]
    }
   ],
   "source": [
    "# print(f'There are {df[\"sentiment\"].value_counts()[0]} examples of negative sentiment')\n",
    "# print(f'There are {df[\"sentiment\"].value_counts()[1]} examples of neutral sentiment')\n",
    "# print(f'There are {df[\"sentiment\"].value_counts()[2]} examples of positive sentiment')"
   ]
  },
  {
   "cell_type": "markdown",
   "metadata": {},
   "source": [
    "## Q4.  Number of words per sample"
   ]
  },
  {
   "cell_type": "code",
   "execution_count": 7,
   "metadata": {},
   "outputs": [
    {
     "name": "stdout",
     "output_type": "stream",
     "text": [
      "The median number of words per sample: 9.0\n"
     ]
    }
   ],
   "source": [
    "tokenize_df = df['comment'].apply(lambda x: tokenizer(x))\n",
    "count = tokenize_df.str.split().apply(len)\n",
    "print(f'The median number of words per sample: {count.median()}')"
   ]
  },
  {
   "cell_type": "markdown",
   "metadata": {},
   "source": [
    "## Q5. Frequency distribution of words"
   ]
  },
  {
   "cell_type": "code",
   "execution_count": 8,
   "metadata": {},
   "outputs": [
    {
     "data": {
      "image/png": "[encoded data removed]",
      "text/plain": [
       "<Figure size 1152x864 with 1 Axes>"
      ]
     },
     "metadata": {
      "needs_background": "light"
     },
     "output_type": "display_data"
    }
   ],
   "source": [
    "plot_frequency_distribution_of_ngrams(tokenize_df.tolist(), ngram_range=(1, 2), num_ngrams=50)"
   ]
  },
  {
   "cell_type": "markdown",
   "metadata": {},
   "source": [
    "## Q6. Distribution of sample length"
   ]
  },
  {
   "cell_type": "code",
   "execution_count": 9,
   "metadata": {},
   "outputs": [
    {
     "data": {
      "text/plain": [
       "Text(0, 0.5, 'Number of samples')"
      ]
     },
     "execution_count": 9,
     "metadata": {},
     "output_type": "execute_result"
    },
    {
     "data": {
      "image/png": "[encoded data removed]",
      "text/plain": [
       "<Figure size 1152x864 with 1 Axes>"
      ]
     },
     "metadata": {
      "needs_background": "light"
     },
     "output_type": "display_data"
    }
   ],
   "source": [
    "value_counts = count#.value_counts().sort_values()\n",
    "ax = value_counts.plot.hist(bins=100, grid=False, figsize=(16,12), color='#86bf91', zorder=2, rwidth=0.9)\n",
    "ax.set_title('Distribution of sample length')\n",
    "ax.set_xlabel('Number of words in a sample')\n",
    "ax.set_ylabel('Number of samples')"
   ]
  },
  {
   "cell_type": "code",
   "execution_count": 10,
   "metadata": {},
   "outputs": [
    {
     "data": {
      "text/plain": [
       "20087                                 yar spelling kesa theek hota wahan ja k bhi\n",
       "19498                                         paen paihay guwach gye ne achasorry\n",
       "19662                                                       hahaha teri bhabi hai\n",
       "18265    mujhi cxn eid ty ehyo wathi aiyun ahin sunny wat athai k jo aa puro suit\n",
       "17240                                                              kya ye sach hy\n",
       "                                           ...                                   \n",
       "7763                                           maze hain g apne pakistan main 😳 😜\n",
       "15377                    allah pak ap ko lambi aur barkat wali zindgi atta farmay\n",
       "17730                                                       idea ho gaya tha mjhe\n",
       "15725                                                           ham sab k liy dua\n",
       "19966                                                        han yar kash ho jata\n",
       "Name: comment, Length: 20116, dtype: object"
      ]
     },
     "execution_count": 10,
     "metadata": {},
     "output_type": "execute_result"
    }
   ],
   "source": [
    "tokenize_df"
   ]
  },
  {
   "cell_type": "code",
   "execution_count": null,
   "metadata": {},
   "outputs": [],
   "source": []
  }
 ],
 "metadata": {
  "kernelspec": {
   "display_name": "NLP",
   "language": "python",
   "name": "nlp"
  },
  "language_info": {
   "codemirror_mode": {
    "name": "ipython",
    "version": 3
   },
   "file_extension": ".py",
   "mimetype": "text/x-python",
   "name": "python",
   "nbconvert_exporter": "python",
   "pygments_lexer": "ipython3",
   "version": "3.7.6"
  }
 },
 "nbformat": 4,
 "nbformat_minor": 4
}
