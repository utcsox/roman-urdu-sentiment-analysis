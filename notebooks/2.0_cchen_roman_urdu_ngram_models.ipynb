{
 "cells": [
  {
   "cell_type": "markdown",
   "metadata": {},
   "source": [
    "# Sentiment Identification\n",
    "\n",
    "## BACKGROUND\n",
    "\n",
    "A large multinational corporation is seeking to automatically identify the sentiment that their customer base talks\n",
    "about on social media. They would like to expand this capability into multiple languages. Many 3rd party tools exist for sentiment analysis, however, they need help with under-resourced languages.\n",
    "\n",
    "## GOAL\n",
    "\n",
    "Train a sentiment classifier (Positive, Negative, Neutral) on a corpus of the provided documents. Your goal is to\n",
    "maximize accuracy. There is special interest in being able to accurately detect negative sentiment. The training data\n",
    "includes documents from a wide variety of sources, not merely social media, and some of it may be inconsistently\n",
    "labeled. Please describe the business outcomes in your work sample including how data limitations impact your results\n",
    "and how these limitations could be addressed in a larger project.\n",
    "\n",
    "## DATA\n",
    "Link to data: http://archive.ics.uci.edu/ml/datasets/Roman+Urdu+Data+Set"
   ]
  },
  {
   "cell_type": "code",
   "execution_count": 46,
   "metadata": {},
   "outputs": [],
   "source": [
    "import pandas as pd\n",
    "pd.set_option('display.max_rows', 500)\n",
    "pd.set_option('display.max_columns', 500)\n",
    "pd.set_option('display.max_colwidth', None)"
   ]
  },
  {
   "cell_type": "markdown",
   "metadata": {},
   "source": [
    "## Data Exploration"
   ]
  },
  {
   "cell_type": "code",
   "execution_count": 47,
   "metadata": {},
   "outputs": [],
   "source": [
    "import emoji\n",
    "import functools\n",
    "import operator\n",
    "import re\n",
    "import numpy as np\n",
    "import pandas as pd\n",
    "import matplotlib.pyplot as plt\n",
    "import nltk\n",
    "import spacy\n",
    "import string\n",
    "import re\n",
    "import os\n",
    "import tensorflow as tf\n",
    "from tensorflow import keras\n",
    "from imblearn.over_sampling import SMOTE\n",
    "from sklearn.feature_selection import SelectKBest\n",
    "from sklearn.feature_selection import f_classif\n",
    "from sklearn.feature_extraction.text import TfidfVectorizer\n",
    "from sklearn.feature_selection import SelectKBest\n",
    "from sklearn.feature_selection import f_classif\n",
    "from sklearn.linear_model import LogisticRegression\n",
    "from sklearn.metrics import plot_confusion_matrix\n",
    "from sklearn.model_selection import GridSearchCV\n",
    "from sklearn.model_selection import train_test_split\n",
    "from sklearn.naive_bayes import MultinomialNB\n",
    "\n",
    "from sklearn.preprocessing import LabelEncoder\n",
    "from sklearn.pipeline import Pipeline\n",
    "DATA_DIR = os.path.abspath('../data/raw')"
   ]
  },
  {
   "cell_type": "code",
   "execution_count": 48,
   "metadata": {},
   "outputs": [
    {
     "data": {
      "text/html": [
       "<div>\n",
       "<style scoped>\n",
       "    .dataframe tbody tr th:only-of-type {\n",
       "        vertical-align: middle;\n",
       "    }\n",
       "\n",
       "    .dataframe tbody tr th {\n",
       "        vertical-align: top;\n",
       "    }\n",
       "\n",
       "    .dataframe thead th {\n",
       "        text-align: right;\n",
       "    }\n",
       "</style>\n",
       "<table border=\"1\" class=\"dataframe\">\n",
       "  <thead>\n",
       "    <tr style=\"text-align: right;\">\n",
       "      <th></th>\n",
       "      <th>comment</th>\n",
       "      <th>sentiment</th>\n",
       "      <th>nan</th>\n",
       "    </tr>\n",
       "  </thead>\n",
       "  <tbody>\n",
       "    <tr>\n",
       "      <th>20224</th>\n",
       "      <td>Hamari jese awam teli laga k mazay leti</td>\n",
       "      <td>Negative</td>\n",
       "      <td>NaN</td>\n",
       "    </tr>\n",
       "    <tr>\n",
       "      <th>20225</th>\n",
       "      <td>Kaash hum b parhay likhay hotayKabhi likhtay gulbadanKabhi likhtay Gulfeezan</td>\n",
       "      <td>Negative</td>\n",
       "      <td>NaN</td>\n",
       "    </tr>\n",
       "    <tr>\n",
       "      <th>20226</th>\n",
       "      <td>Bahi sayasat kufrrr ha saaaf bttttt ha qanon sirf Allah ka Calhay ga Muslim country me sayasat ka kaaaam isreal ka ha</td>\n",
       "      <td>Negative</td>\n",
       "      <td>NaN</td>\n",
       "    </tr>\n",
       "    <tr>\n",
       "      <th>20227</th>\n",
       "      <td>aanti toh gussa e kr gai hain</td>\n",
       "      <td>Negative</td>\n",
       "      <td>NaN</td>\n",
       "    </tr>\n",
       "    <tr>\n",
       "      <th>20228</th>\n",
       "      <td>mai b sirf shadi kanry ki waja say imran khan ka sat dey raha hun</td>\n",
       "      <td>Positive</td>\n",
       "      <td>NaN</td>\n",
       "    </tr>\n",
       "  </tbody>\n",
       "</table>\n",
       "</div>"
      ],
      "text/plain": [
       "                                                                                                                     comment  \\\n",
       "20224                                                                               Hamari jese awam teli laga k mazay leti    \n",
       "20225                                           Kaash hum b parhay likhay hotayKabhi likhtay gulbadanKabhi likhtay Gulfeezan   \n",
       "20226  Bahi sayasat kufrrr ha saaaf bttttt ha qanon sirf Allah ka Calhay ga Muslim country me sayasat ka kaaaam isreal ka ha   \n",
       "20227                                                                                         aanti toh gussa e kr gai hain    \n",
       "20228                                                     mai b sirf shadi kanry ki waja say imran khan ka sat dey raha hun    \n",
       "\n",
       "      sentiment  nan  \n",
       "20224  Negative  NaN  \n",
       "20225  Negative  NaN  \n",
       "20226  Negative  NaN  \n",
       "20227  Negative  NaN  \n",
       "20228  Positive  NaN  "
      ]
     },
     "execution_count": 48,
     "metadata": {},
     "output_type": "execute_result"
    }
   ],
   "source": [
    "data_path = os.path.join(DATA_DIR, 'Roman Urdu Dataset.csv')\n",
    "raw_df = pd.read_csv(data_path, skipinitialspace=True, names=['comment', 'sentiment', 'nan'], encoding='utf-8')\n",
    "raw_df.tail()"
   ]
  },
  {
   "cell_type": "code",
   "execution_count": 49,
   "metadata": {
    "scrolled": true
   },
   "outputs": [
    {
     "name": "stdout",
     "output_type": "stream",
     "text": [
      "<class 'pandas.core.frame.DataFrame'>\n",
      "RangeIndex: 20229 entries, 0 to 20228\n",
      "Data columns (total 3 columns):\n",
      " #   Column     Non-Null Count  Dtype \n",
      "---  ------     --------------  ----- \n",
      " 0   comment    20116 non-null  object\n",
      " 1   sentiment  20229 non-null  object\n",
      " 2   nan        7 non-null      object\n",
      "dtypes: object(3)\n",
      "memory usage: 474.2+ KB\n"
     ]
    }
   ],
   "source": [
    "#Print a concise summary of a DataFrame.\n",
    "raw_df.info()"
   ]
  },
  {
   "cell_type": "code",
   "execution_count": 50,
   "metadata": {},
   "outputs": [
    {
     "data": {
      "text/plain": [
       "comment        113\n",
       "sentiment        0\n",
       "nan          20222\n",
       "dtype: int64"
      ]
     },
     "execution_count": 50,
     "metadata": {},
     "output_type": "execute_result"
    }
   ],
   "source": [
    "# Check missing data\n",
    "raw_df.isnull().sum()"
   ]
  },
  {
   "cell_type": "code",
   "execution_count": 51,
   "metadata": {
    "scrolled": true
   },
   "outputs": [
    {
     "name": "stdout",
     "output_type": "stream",
     "text": [
      "comment              19619\t ['Sai kha ya her kisi kay bus ki bat nhi hai lakin main ki hal kal bi Aj aur aj bi sirf Aus say bus'\n",
      " 'sahi bt h' 'Kya bt hai,' 'Wah je wah' 'Are wha kaya bat hai'\n",
      " 'Wah kya baat likhi' 'Wha Itni sari khubiya' 'Itni khubiya'\n",
      " 'Ya allah rehm farma hm sab pe or zalimo ko hidayat de ameen'\n",
      " 'Please Everyone AllAh S.w.T ka naam hAmesha Bary Lawzo main Likha kary Wo he Zaat sUb say Bari Hey']\n",
      "sentiment                4\t ['Positive' 'Neutral' 'Negative' 'Neative']\n",
      "nan                      7\t [nan '----------------' '----------' '-------' '------' '9090' 'till here']\n"
     ]
    }
   ],
   "source": [
    "# For each column of the dataframe, we want to know numbers of unique attributes and the attributes values.\n",
    "for column in raw_df.columns:\n",
    "    unique_attribute = (raw_df[column].unique())\n",
    "    print('{0:20s} {1:5d}\\t'.format(column, len(unique_attribute)), unique_attribute[0:10])"
   ]
  },
  {
   "cell_type": "markdown",
   "metadata": {},
   "source": [
    "## Initial Data Preprocessing\n",
    "     -- Drop the NaN column\n",
    "     -- Replace \"Neative\" - > \"Negative\""
   ]
  },
  {
   "cell_type": "code",
   "execution_count": 52,
   "metadata": {},
   "outputs": [
    {
     "data": {
      "text/html": [
       "<div>\n",
       "<style scoped>\n",
       "    .dataframe tbody tr th:only-of-type {\n",
       "        vertical-align: middle;\n",
       "    }\n",
       "\n",
       "    .dataframe tbody tr th {\n",
       "        vertical-align: top;\n",
       "    }\n",
       "\n",
       "    .dataframe thead th {\n",
       "        text-align: right;\n",
       "    }\n",
       "</style>\n",
       "<table border=\"1\" class=\"dataframe\">\n",
       "  <thead>\n",
       "    <tr style=\"text-align: right;\">\n",
       "      <th></th>\n",
       "      <th>comment</th>\n",
       "      <th>sentiment</th>\n",
       "    </tr>\n",
       "  </thead>\n",
       "  <tbody>\n",
       "    <tr>\n",
       "      <th>0</th>\n",
       "      <td>Sai kha ya her kisi kay bus ki bat nhi hai lakin main ki hal kal bi Aj aur aj bi sirf Aus say bus</td>\n",
       "      <td>Positive</td>\n",
       "    </tr>\n",
       "    <tr>\n",
       "      <th>1</th>\n",
       "      <td>sahi bt h</td>\n",
       "      <td>Positive</td>\n",
       "    </tr>\n",
       "    <tr>\n",
       "      <th>2</th>\n",
       "      <td>Kya bt hai,</td>\n",
       "      <td>Positive</td>\n",
       "    </tr>\n",
       "    <tr>\n",
       "      <th>3</th>\n",
       "      <td>Wah je wah</td>\n",
       "      <td>Positive</td>\n",
       "    </tr>\n",
       "    <tr>\n",
       "      <th>4</th>\n",
       "      <td>Are wha kaya bat hai</td>\n",
       "      <td>Positive</td>\n",
       "    </tr>\n",
       "  </tbody>\n",
       "</table>\n",
       "</div>"
      ],
      "text/plain": [
       "                                                                                             comment  \\\n",
       "0  Sai kha ya her kisi kay bus ki bat nhi hai lakin main ki hal kal bi Aj aur aj bi sirf Aus say bus   \n",
       "1                                                                                          sahi bt h   \n",
       "2                                                                                        Kya bt hai,   \n",
       "3                                                                                         Wah je wah   \n",
       "4                                                                               Are wha kaya bat hai   \n",
       "\n",
       "  sentiment  \n",
       "0  Positive  \n",
       "1  Positive  \n",
       "2  Positive  \n",
       "3  Positive  \n",
       "4  Positive  "
      ]
     },
     "execution_count": 52,
     "metadata": {},
     "output_type": "execute_result"
    }
   ],
   "source": [
    "cleaned_df = raw_df.copy()\n",
    "cleaned_df.drop('nan',axis=1,inplace=True)\n",
    "cleaned_df.dropna(axis=0, subset = ['comment'], inplace=True)\n",
    "cleaned_df.replace(to_replace='Neative', value='Negative', inplace=True)\n",
    "cleaned_df.dropna(subset=['sentiment'], inplace=True)\n",
    "\n",
    "cleaned_df.head(5)"
   ]
  },
  {
   "cell_type": "markdown",
   "metadata": {},
   "source": [
    "## Examine the class label imbalance"
   ]
  },
  {
   "cell_type": "code",
   "execution_count": 53,
   "metadata": {},
   "outputs": [
    {
     "name": "stdout",
     "output_type": "stream",
     "text": [
      "There are total 20116 comments\n",
      "There are 6013 Positive comments\n",
      "There are 8816 Neutral comments\n",
      "There are 5287 Negative comments\n"
     ]
    }
   ],
   "source": [
    "print(f'There are total {cleaned_df.shape[0]} comments')\n",
    "print(f'There are {cleaned_df[cleaned_df[\"sentiment\"] == \"Positive\"].shape[0]} Positive comments')\n",
    "print(f'There are {cleaned_df[cleaned_df[\"sentiment\"] == \"Neutral\"].shape[0]} Neutral comments')\n",
    "print(f'There are {cleaned_df[cleaned_df[\"sentiment\"] == \"Negative\"].shape[0]} Negative comments')"
   ]
  },
  {
   "cell_type": "markdown",
   "metadata": {},
   "source": [
    "# Data Preprocessing:\n",
    "\n",
    "### 1.  Encode the Labels\n",
    "\n",
    "### 2.  Tokenization:\n",
    "    -- Applied lower case for each token \n",
    "    -- remove 0-9 numeric \n",
    "    -- remove the punctuation\n",
    "    -- (TO DO) Remove stop words\n",
    "### 3.  Train, Val, Test split\n",
    "\n",
    "    "
   ]
  },
  {
   "cell_type": "code",
   "execution_count": 54,
   "metadata": {},
   "outputs": [],
   "source": [
    "# Encode the output labels: \n",
    "    # Negative -> 0\n",
    "    # Neutral -> 1\n",
    "    # Positive -> 2\n",
    "\n",
    "le = LabelEncoder()\n",
    "le.fit(cleaned_df['sentiment'])\n",
    "cleaned_df['sentiment']= le.transform(cleaned_df['sentiment'])"
   ]
  },
  {
   "cell_type": "code",
   "execution_count": 55,
   "metadata": {},
   "outputs": [],
   "source": [
    "# tokenize for a single document\n",
    "def tokenizer(doc):\n",
    "    \"\"\" Tokenize a single document\"\"\"\n",
    "    tokens = [word.lower() for word in nltk.word_tokenize(doc)]\n",
    "    tokens = [re.sub(r'[0-9]', '', word) for word in tokens]\n",
    "    tokens = [re.sub(r'['+string.punctuation+']', '', word) for word in tokens]   \n",
    "    tokens = ' '.join(tokens)\n",
    "    \n",
    "    em_split_emoji = emoji.get_emoji_regexp().split(tokens)\n",
    "    em_split_whitespace = [substr.split() for substr in em_split_emoji]\n",
    "    em_split = functools.reduce(operator.concat, em_split_whitespace)        \n",
    "    tokens = ' '.join(em_split)\n",
    "    return tokens\n",
    "\n",
    "cleaned_df['comment'] = cleaned_df['comment'].apply(lambda x: tokenizer(x))"
   ]
  },
  {
   "cell_type": "code",
   "execution_count": 56,
   "metadata": {},
   "outputs": [],
   "source": [
    "train_df, test_df = train_test_split(cleaned_df, test_size=0.2,random_state=40)\n",
    "\n",
    "train_labels = train_df['sentiment']\n",
    "test_labels = test_df['sentiment']\n",
    "train_features = train_df['comment']\n",
    "test_features = test_df['comment']\n"
   ]
  },
  {
   "cell_type": "markdown",
   "metadata": {},
   "source": [
    "# Gridsearch Pipeline: LogisticRegression\n",
    "\n",
    "### TF-IDF\n"
   ]
  },
  {
   "cell_type": "code",
   "execution_count": 57,
   "metadata": {},
   "outputs": [],
   "source": [
    "from typing import Any, List, Tuple\n",
    "def vectorize(train_texts: List[str], train_labels, test_texts: List[str]) -> Tuple[Any, Any]:\n",
    "    \"\"\" Convert the document into word n-grams and vectorize it\n",
    "\n",
    "    :param train_texts: of training texts\n",
    "    :param train_labels: An array of labels from the training dataset\n",
    "    :param test_texts: List of test texts\n",
    "    :return: A tuple of vectorize training_text and vectorize test texts\n",
    "    \"\"\"\n",
    "\n",
    "    kwargs = {\n",
    "        'ngram_range': (1, 2),\n",
    "        'analyzer': 'word',\n",
    "        'min_df': MIN_DOCUMENT_FREQUENCY\n",
    "    }\n",
    "    # Use TfidfVectorizer to convert the raw documents to a matrix of TF-IDF features\n",
    "    #\n",
    "    vectorizer = TfidfVectorizer(**kwargs)\n",
    "    X_train = vectorizer.fit_transform(train_texts)\n",
    "    X_test = vectorizer.transform(test_texts)\n",
    "    selector = SelectKBest(f_classif, k=min(30000, X_train.shape[1]))\n",
    "    selector.fit(X_train, train_labels)\n",
    "    X_train = selector.transform(X_train)\n",
    "    X_test = selector.transform(X_test)\n",
    "\n",
    "    return X_train, X_test"
   ]
  },
  {
   "cell_type": "code",
   "execution_count": 58,
   "metadata": {},
   "outputs": [],
   "source": [
    "from sklearn.ensemble import GradientBoostingClassifier\n",
    "\n",
    "NGRAM_RANGE = (1, 2)\n",
    "TOKEN_MODE = 'word'\n",
    "MIN_DOCUMENT_FREQUENCY = 2\n",
    "\n",
    "X_train, X_test = vectorize(train_features, train_labels, test_features)\n",
    "\n",
    "# gridsearch\n",
    "lr_tfidf = Pipeline([\n",
    "           ('clf', LogisticRegression(random_state=40, solver = 'saga'))\n",
    "       ])\n",
    "\n",
    "C_OPTIONS = [1, 3, 5, 7, 10]\n",
    "\n",
    "param_grid = [\n",
    "    {\n",
    "        'clf__penalty': ['l1', 'l2'],\n",
    "        'clf__C': C_OPTIONS\n",
    "    }\n",
    "]\n",
    "\n",
    "gs_lr_tfidf = GridSearchCV(lr_tfidf, param_grid,\n",
    "                           scoring='accuracy',\n",
    "                           cv=5,\n",
    "                           verbose=2,\n",
    "                           n_jobs=-1)"
   ]
  },
  {
   "cell_type": "code",
   "execution_count": 59,
   "metadata": {},
   "outputs": [
    {
     "name": "stdout",
     "output_type": "stream",
     "text": [
      "Fitting 5 folds for each of 10 candidates, totalling 50 fits\n"
     ]
    },
    {
     "name": "stderr",
     "output_type": "stream",
     "text": [
      "[Parallel(n_jobs=-1)]: Using backend LokyBackend with 8 concurrent workers.\n",
      "[Parallel(n_jobs=-1)]: Done  25 tasks      | elapsed:   47.4s\n",
      "[Parallel(n_jobs=-1)]: Done  50 out of  50 | elapsed:  3.7min finished\n"
     ]
    },
    {
     "data": {
      "text/plain": [
       "GridSearchCV(cv=5,\n",
       "             estimator=Pipeline(steps=[('clf',\n",
       "                                        LogisticRegression(random_state=40,\n",
       "                                                           solver='saga'))]),\n",
       "             n_jobs=-1,\n",
       "             param_grid=[{'clf__C': [1, 3, 5, 7, 10],\n",
       "                          'clf__penalty': ['l1', 'l2']}],\n",
       "             scoring='accuracy', verbose=2)"
      ]
     },
     "execution_count": 59,
     "metadata": {},
     "output_type": "execute_result"
    }
   ],
   "source": [
    "gs_lr_tfidf.fit(X_train, train_labels)"
   ]
  },
  {
   "cell_type": "code",
   "execution_count": 60,
   "metadata": {},
   "outputs": [
    {
     "name": "stdout",
     "output_type": "stream",
     "text": [
      "Best parameter set: {'clf__C': 3, 'clf__penalty': 'l2'} \n",
      "CV Accuracy: 0.663\n"
     ]
    }
   ],
   "source": [
    "print('Best parameter set: %s ' % gs_lr_tfidf.best_params_)\n",
    "print('CV Accuracy: %.3f' % gs_lr_tfidf.best_score_)"
   ]
  },
  {
   "cell_type": "code",
   "execution_count": 61,
   "metadata": {},
   "outputs": [
    {
     "name": "stdout",
     "output_type": "stream",
     "text": [
      "Test Accuracy: 0.662\n"
     ]
    }
   ],
   "source": [
    "clf_lr = gs_lr_tfidf.best_estimator_\n",
    "print('Test Accuracy: %.3f' % clf_lr.score(X_test, test_labels))"
   ]
  },
  {
   "cell_type": "code",
   "execution_count": 62,
   "metadata": {
    "scrolled": true
   },
   "outputs": [
    {
     "name": "stdout",
     "output_type": "stream",
     "text": [
      "Precision Test for model: [0.6289445  0.67855323 0.65936953]\n",
      "Recall Test for model: [0.54890788 0.74164811 0.64085106]\n",
      "F1 Test for model: [0.5862069  0.70869912 0.64997842]\n",
      "Confusion matrix (Test):\n",
      "[[ 578  341  134]\n",
      " [ 209 1332  255]\n",
      " [ 132  290  753]]\n"
     ]
    }
   ],
   "source": [
    "from sklearn.metrics import roc_auc_score, f1_score, precision_score, recall_score, confusion_matrix\n",
    "\n",
    "y_pred_lr_tfidf = gs_lr_tfidf.predict(X_test)\n",
    "y_test_exp = test_labels.to_numpy()\n",
    "print('Precision Test for model: {}' .format(precision_score(y_test_exp, y_pred_lr_tfidf, average=None)))\n",
    "print('Recall Test for model: {}' .format(recall_score(test_labels, y_pred_lr_tfidf, average=None)))\n",
    "print('F1 Test for model: {}' .format(f1_score(test_labels, y_pred_lr_tfidf, average=None)))\n",
    "print('Confusion matrix (Test):')\n",
    "print(confusion_matrix(test_labels, y_pred_lr_tfidf))"
   ]
  },
  {
   "cell_type": "code",
   "execution_count": 63,
   "metadata": {},
   "outputs": [
    {
     "data": {
      "image/png": "[encoded data removed]",
      "text/plain": [
       "<Figure size 1296x648 with 4 Axes>"
      ]
     },
     "metadata": {
      "needs_background": "light"
     },
     "output_type": "display_data"
    }
   ],
   "source": [
    "title_options = [(\"Confusion matrix, without normalization\", None), \n",
    "                 (\"Normalization confusion matrix\", 'true')]\n",
    "classes_names = np.array(['Negative', 'Neutral', 'Positive'])\n",
    "fig = plt.figure(figsize=(18,9))\n",
    "nrows=1\n",
    "ncols=2\n",
    "\n",
    "for idx,value in enumerate(title_options):\n",
    "    ax = fig.add_subplot(nrows, ncols, idx+1)\n",
    "    disp= plot_confusion_matrix(clf_lr, X_test, test_labels,\n",
    "                         display_labels=classes_names,\n",
    "                         cmap=plt.cm.Blues,\n",
    "                         normalize=value[1],\n",
    "                               ax = ax)\n",
    "    disp.ax_.set_title(value[0])\n"
   ]
  },
  {
   "cell_type": "markdown",
   "metadata": {},
   "source": [
    "# Multiclass Classification - > Binary Clasification\n",
    "\n",
    "Since the model can only accurately predict negative sentiment about ~50% of time, I want to see if I can improve upon this result.  One idea is to combine neutral sentiment and positive sentiment into one label and turn this analysis into a binary classification problem.\n",
    "\n",
    "Since we have class imbalance issues when reforumlate to binary classifiaiton problems, use SMOTE to generate synthetic data within the minority class to have both classes have equal numbers of samples in training. The test accuracy improves from ~50% to ~70% on <b>negative sentiment </b>!"
   ]
  },
  {
   "cell_type": "code",
   "execution_count": 64,
   "metadata": {},
   "outputs": [],
   "source": [
    "from imblearn.pipeline import Pipeline"
   ]
  },
  {
   "cell_type": "code",
   "execution_count": 65,
   "metadata": {},
   "outputs": [],
   "source": [
    "# Combine the neutral/positive labels into one label -> 1\n",
    "train_labels_binary = train_labels.map(lambda x: 1 if (x==2 or x==1) else 0)\n",
    "test_labels_binary = test_labels.map(lambda x: 1 if (x==2 or x==1) else 0)"
   ]
  },
  {
   "cell_type": "code",
   "execution_count": 66,
   "metadata": {},
   "outputs": [
    {
     "data": {
      "text/plain": [
       "1    11858\n",
       "0     4234\n",
       "Name: sentiment, dtype: int64"
      ]
     },
     "execution_count": 66,
     "metadata": {},
     "output_type": "execute_result"
    }
   ],
   "source": [
    "train_labels_binary.value_counts()"
   ]
  },
  {
   "cell_type": "code",
   "execution_count": 67,
   "metadata": {},
   "outputs": [
    {
     "name": "stdout",
     "output_type": "stream",
     "text": [
      "There are 4234 that can be classified as negative sentiments\n",
      "There are 11858 that can be classified as non-negative sentiments\n"
     ]
    }
   ],
   "source": [
    "# Class Imbalance Issues\n",
    "print(f'There are {train_labels_binary.value_counts()[0]} that can be classified as negative sentiments')\n",
    "print(f'There are {train_labels_binary.value_counts()[1]} that can be classified as non-negative sentiments' )"
   ]
  },
  {
   "cell_type": "code",
   "execution_count": 68,
   "metadata": {},
   "outputs": [],
   "source": [
    "# tfidf = TfidfVectorizer(strip_accents=None,\n",
    "#                         lowercase=False,\n",
    "#                         preprocessor=None)\n",
    "\n",
    "param_grid = [{'clf__penalty': ['l1', 'l2'],\n",
    "               'clf__C': [0, 1, 3, 5, 7, 10]},\n",
    "              ]\n",
    "\n",
    "lr_tfidf = Pipeline([\n",
    "           ('smote', SMOTE(sampling_strategy=1.0, random_state=5, k_neighbors=10)),\n",
    "           ('clf', LogisticRegression(random_state=1, solver = 'saga'))\n",
    "       ])\n",
    "\n",
    "gs_lr_tfidf = GridSearchCV(lr_tfidf, param_grid,\n",
    "                           scoring='accuracy',\n",
    "                           cv=5,\n",
    "                           verbose=2,\n",
    "                           n_jobs=-1)"
   ]
  },
  {
   "cell_type": "code",
   "execution_count": 69,
   "metadata": {},
   "outputs": [
    {
     "name": "stdout",
     "output_type": "stream",
     "text": [
      "Fitting 5 folds for each of 12 candidates, totalling 60 fits\n"
     ]
    },
    {
     "name": "stderr",
     "output_type": "stream",
     "text": [
      "[Parallel(n_jobs=-1)]: Using backend LokyBackend with 8 concurrent workers.\n",
      "[Parallel(n_jobs=-1)]: Done  25 tasks      | elapsed:   12.6s\n",
      "[Parallel(n_jobs=-1)]: Done  60 out of  60 | elapsed:  3.1min finished\n"
     ]
    },
    {
     "data": {
      "text/plain": [
       "GridSearchCV(cv=5,\n",
       "             estimator=Pipeline(steps=[('smote',\n",
       "                                        SMOTE(k_neighbors=10, random_state=5,\n",
       "                                              sampling_strategy=1.0)),\n",
       "                                       ('clf',\n",
       "                                        LogisticRegression(random_state=1,\n",
       "                                                           solver='saga'))]),\n",
       "             n_jobs=-1,\n",
       "             param_grid=[{'clf__C': [0, 1, 3, 5, 7, 10],\n",
       "                          'clf__penalty': ['l1', 'l2']}],\n",
       "             scoring='accuracy', verbose=2)"
      ]
     },
     "execution_count": 69,
     "metadata": {},
     "output_type": "execute_result"
    }
   ],
   "source": [
    "gs_lr_tfidf.fit(X_train, train_labels_binary)"
   ]
  },
  {
   "cell_type": "code",
   "execution_count": 70,
   "metadata": {},
   "outputs": [
    {
     "name": "stdout",
     "output_type": "stream",
     "text": [
      "Best parameter set: {'clf__C': 10, 'clf__penalty': 'l2'} \n",
      "CV Accuracy: 0.733\n"
     ]
    }
   ],
   "source": [
    "print('Best parameter set: %s ' % gs_lr_tfidf.best_params_)\n",
    "print('CV Accuracy: %.3f' % gs_lr_tfidf.best_score_)"
   ]
  },
  {
   "cell_type": "code",
   "execution_count": 71,
   "metadata": {},
   "outputs": [
    {
     "name": "stdout",
     "output_type": "stream",
     "text": [
      "Test Accuracy: 0.724\n"
     ]
    }
   ],
   "source": [
    "clf_lr = gs_lr_tfidf.best_estimator_\n",
    "print('Test Accuracy: %.3f' % clf_lr.score(X_test, test_labels_binary))"
   ]
  },
  {
   "cell_type": "code",
   "execution_count": 72,
   "metadata": {},
   "outputs": [
    {
     "name": "stdout",
     "output_type": "stream",
     "text": [
      "Precision Test for model: [0.47587899 0.83184577]\n",
      "Recall Test for model: [0.55270655 0.78424773]\n",
      "F1 Test for model: [0.51142355 0.80734581]\n",
      "ROC AUC Train: 0.668 for Logistic Regression\n",
      "Confusion matrix (Test):\n",
      "[[ 582  471]\n",
      " [ 641 2330]]\n"
     ]
    }
   ],
   "source": [
    "from sklearn.metrics import roc_auc_score, f1_score, precision_score, recall_score, confusion_matrix\n",
    "\n",
    "y_pred_lr_tfidf = gs_lr_tfidf.predict(X_test)\n",
    "y_test_exp_binary = test_labels_binary.to_numpy()\n",
    "print('Precision Test for model: {}' .format(precision_score(y_test_exp_binary, y_pred_lr_tfidf, average=None)))\n",
    "print('Recall Test for model: {}' .format(recall_score(test_labels_binary, y_pred_lr_tfidf, average=None)))\n",
    "print('F1 Test for model: {}' .format(f1_score(test_labels_binary, y_pred_lr_tfidf, average=None)))\n",
    "print('ROC AUC Train: %.3f for Logistic Regression' % roc_auc_score(y_test_exp_binary, y_pred_lr_tfidf, average=None))\n",
    "print('Confusion matrix (Test):')\n",
    "print(confusion_matrix(test_labels_binary, y_pred_lr_tfidf))"
   ]
  },
  {
   "cell_type": "code",
   "execution_count": 73,
   "metadata": {},
   "outputs": [
    {
     "data": {
      "image/png": "[encoded data removed]",
      "text/plain": [
       "<Figure size 1296x648 with 4 Axes>"
      ]
     },
     "metadata": {
      "needs_background": "light"
     },
     "output_type": "display_data"
    }
   ],
   "source": [
    "title_options = [(\"Confusion matrix, without normalization\", None), \n",
    "                 (\"Normalization confusion matrix\", 'true')]\n",
    "classes_names = np.array(['Negative', 'Positive/Neutral'])\n",
    "fig = plt.figure(figsize=(18,9))\n",
    "nrows=1\n",
    "ncols=2\n",
    "\n",
    "for idx,value in enumerate(title_options):\n",
    "    ax = fig.add_subplot(nrows, ncols, idx+1)\n",
    "    disp= plot_confusion_matrix(clf_lr, X_test, test_labels_binary,\n",
    "                         display_labels=classes_names,\n",
    "                         cmap=plt.cm.Blues,\n",
    "                         normalize=value[1],\n",
    "                               ax = ax)\n",
    "    disp.ax_.set_title(value[0])\n"
   ]
  },
  {
   "cell_type": "markdown",
   "metadata": {},
   "source": [
    "# Gridsearch Pipeline: Naive Bayes\n"
   ]
  },
  {
   "cell_type": "code",
   "execution_count": 74,
   "metadata": {},
   "outputs": [],
   "source": [
    "tfidf = TfidfVectorizer(strip_accents=None,\n",
    "                        lowercase=False,\n",
    "                        preprocessor=None)\n",
    "\n",
    "param_grid = [\n",
    "    {\n",
    "        'clf__alpha': [0.25, 0.3, 0.35, 0.4, 0.45, 0.50]\n",
    "    },  \n",
    "]\n",
    "\n",
    "nb_tfidf = Pipeline([\n",
    "           #('vect', tfidf),\n",
    "           ('smote', SMOTE(sampling_strategy=1.0, random_state=5, k_neighbors=3)),\n",
    "           ('clf', MultinomialNB())\n",
    "       ])\n",
    "\n",
    "gs_nb_tfidf = GridSearchCV(nb_tfidf, param_grid,\n",
    "                           scoring='accuracy',\n",
    "                           cv=5,\n",
    "                           verbose=2,\n",
    "                           n_jobs=-1)"
   ]
  },
  {
   "cell_type": "code",
   "execution_count": 75,
   "metadata": {},
   "outputs": [
    {
     "name": "stdout",
     "output_type": "stream",
     "text": [
      "Fitting 5 folds for each of 6 candidates, totalling 30 fits\n"
     ]
    },
    {
     "name": "stderr",
     "output_type": "stream",
     "text": [
      "[Parallel(n_jobs=-1)]: Using backend LokyBackend with 8 concurrent workers.\n",
      "[Parallel(n_jobs=-1)]: Done  30 out of  30 | elapsed:    2.8s finished\n"
     ]
    },
    {
     "data": {
      "text/plain": [
       "GridSearchCV(cv=5,\n",
       "             estimator=Pipeline(steps=[('smote',\n",
       "                                        SMOTE(k_neighbors=3, random_state=5,\n",
       "                                              sampling_strategy=1.0)),\n",
       "                                       ('clf', MultinomialNB())]),\n",
       "             n_jobs=-1,\n",
       "             param_grid=[{'clf__alpha': [0.25, 0.3, 0.35, 0.4, 0.45, 0.5]}],\n",
       "             scoring='accuracy', verbose=2)"
      ]
     },
     "execution_count": 75,
     "metadata": {},
     "output_type": "execute_result"
    }
   ],
   "source": [
    "gs_nb_tfidf.fit(X_train, train_labels_binary)"
   ]
  },
  {
   "cell_type": "code",
   "execution_count": 76,
   "metadata": {},
   "outputs": [
    {
     "name": "stdout",
     "output_type": "stream",
     "text": [
      "Best parameter set: {'clf__alpha': 0.25} \n",
      "CV Accuracy: 0.739\n"
     ]
    }
   ],
   "source": [
    "print('Best parameter set: %s ' % gs_nb_tfidf.best_params_)\n",
    "print('CV Accuracy: %.3f' % gs_nb_tfidf.best_score_)"
   ]
  },
  {
   "cell_type": "code",
   "execution_count": 77,
   "metadata": {},
   "outputs": [
    {
     "name": "stdout",
     "output_type": "stream",
     "text": [
      "Test Accuracy: 0.716\n"
     ]
    }
   ],
   "source": [
    "clf_nb = gs_nb_tfidf.best_estimator_\n",
    "print('Test Accuracy: %.3f' % clf_nb.score(X_test, test_labels_binary))"
   ]
  },
  {
   "cell_type": "code",
   "execution_count": 78,
   "metadata": {
    "scrolled": true
   },
   "outputs": [
    {
     "name": "stdout",
     "output_type": "stream",
     "text": [
      "Precision Test for model: [0.47051199 0.86819831]\n",
      "Recall Test for model: [0.68945869 0.72500841]\n",
      "F1 Test for model: [0.55932203 0.79016875]\n",
      "ROC AUC Train: 0.707 for Naive Bayes\n",
      "Confusion matrix (Test):\n",
      "[[ 726  327]\n",
      " [ 817 2154]]\n"
     ]
    }
   ],
   "source": [
    "from sklearn.metrics import roc_auc_score, f1_score, precision_score, recall_score, confusion_matrix\n",
    "\n",
    "y_pred_nb_tfidf = gs_nb_tfidf.predict(X_test)\n",
    "y_test_exp_binary = test_labels_binary.to_numpy()\n",
    "print('Precision Test for model: {}' .format(precision_score(y_test_exp_binary, y_pred_nb_tfidf, average=None)))\n",
    "print('Recall Test for model: {}' .format(recall_score(test_labels_binary, y_pred_nb_tfidf, average=None)))\n",
    "print('F1 Test for model: {}' .format(f1_score(test_labels_binary, y_pred_nb_tfidf, average=None)))\n",
    "print('ROC AUC Train: %.3f for Naive Bayes' % roc_auc_score(y_test_exp_binary, y_pred_nb_tfidf, average=None))\n",
    "print('Confusion matrix (Test):')\n",
    "print(confusion_matrix(test_labels_binary, y_pred_nb_tfidf))"
   ]
  },
  {
   "cell_type": "code",
   "execution_count": 79,
   "metadata": {},
   "outputs": [
    {
     "data": {
      "image/png": "[encoded data removed]",
      "text/plain": [
       "<Figure size 1296x648 with 4 Axes>"
      ]
     },
     "metadata": {
      "needs_background": "light"
     },
     "output_type": "display_data"
    }
   ],
   "source": [
    "title_options = [(\"Confusion matrix, without normalization\", None), \n",
    "                 (\"Normalization confusion matrix\", 'true')]\n",
    "classes_names = np.array(['Negative', 'Positive/Neutral'])\n",
    "\n",
    "fig = plt.figure(figsize=(18,9))\n",
    "nrows=1\n",
    "ncols=2\n",
    "\n",
    "for idx,value in enumerate(title_options):\n",
    "    ax = fig.add_subplot(nrows, ncols, idx+1)\n",
    "    disp= plot_confusion_matrix(clf_nb, X_test, test_labels_binary,\n",
    "                         #display_labels=sorted(test_labels_binary.unique()),\n",
    "                         cmap=plt.cm.Blues,\n",
    "                         display_labels=classes_names,\n",
    "                         normalize=value[1],\n",
    "                               ax = ax)\n",
    "    disp.ax_.set_title(value[0])\n"
   ]
  },
  {
   "cell_type": "code",
   "execution_count": null,
   "metadata": {},
   "outputs": [],
   "source": []
  }
 ],
 "metadata": {
  "kernelspec": {
   "display_name": "NLP",
   "language": "python",
   "name": "nlp"
  },
  "language_info": {
   "codemirror_mode": {
    "name": "ipython",
    "version": 3
   },
   "file_extension": ".py",
   "mimetype": "text/x-python",
   "name": "python",
   "nbconvert_exporter": "python",
   "pygments_lexer": "ipython3",
   "version": "3.7.6"
  }
 },
 "nbformat": 4,
 "nbformat_minor": 4
}
